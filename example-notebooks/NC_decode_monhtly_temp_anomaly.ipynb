{
 "cells": [
  {
   "cell_type": "markdown",
   "id": "17aed0b9-89d2-4676-811e-ac05876de07a",
   "metadata": {},
   "source": [
    "# NC-Global monthly temperature anomaly\n",
    "This notebook provides an example on how to decode NC data using the netCDF4 library. In this example, we will read anomaly data from the CMA and display the result on a map.<br>\n",
    "<br>\n",
    "This data is a global monthly temperature anomaly.<br>\n",
    "The average temperature used for the calculation is the average of the temperatures for the corresponding months over the 30-year period from 1961 to 1990.<br>\n",
    "<br>\n",
    "The data product will be shared on <https://data.cma.cn/en> from the end of September 2025, and it will also be shared via WIS2 in the near future.<br><br>\n",
    "As part of the WIS2 Training you will be asked to download some data from the WIS2-broker hosted at wis2training-broker.wis2dev.io and use it in this notebook. If you want to run this notebook on you local machine, you can use the sample-data included in this notebook instead.<br>\n",
    "<br>\n",
    "Execute each block of code by selecting it and pressing `Shift+Enter` or clicking the `Run` button in the toolbar above."
   ]
  },
  {
   "cell_type": "markdown",
   "id": "64129ee0-f416-4cf1-bc64-0963549ae63b",
   "metadata": {},
   "source": [
    "# Data decoding"
   ]
  },
  {
   "cell_type": "code",
   "execution_count": null,
   "id": "f5750336-b480-4b0b-a667-a86096a0304b",
   "metadata": {},
   "outputs": [],
   "source": [
    "import netCDF4\n",
    "from netCDF4 import Dataset\n",
    "import xarray as xr "
   ]
  },
  {
   "cell_type": "code",
   "execution_count": null,
   "id": "6466209c-ee2f-4579-a52f-83281eb804f8",
   "metadata": {},
   "outputs": [],
   "source": [
    "file_path = \"SURF_CLI_GLB_MST_MON_GRID_2DEG_202507.nc\""
   ]
  },
  {
   "cell_type": "code",
   "execution_count": null,
   "id": "3ce6aaa5-b97a-4c00-9d5c-90dd54d2c0e1",
   "metadata": {},
   "outputs": [],
   "source": [
    "dataset = xr.open_dataset(file_path)\n",
    "dataset"
   ]
  },
  {
   "cell_type": "markdown",
   "id": "9bda55f2-c238-4c69-9a34-f9f27faccb28",
   "metadata": {},
   "source": [
    "# Visualization"
   ]
  },
  {
   "cell_type": "markdown",
   "id": "667cce11-c87c-4b48-b463-1208d7206855",
   "metadata": {},
   "source": [
    "Importing the required modules.<br>  \n",
    "The following modules are imported:<br>\n",
    "- netCDF4: Python interface to the NetCDF data format, enabling efficient reading/writing of NetCDF files (e.g., `Dataset` for file operations).  \n",
    "- xarray: Library for labeled, multi-dimensional array data, simplifying operations on NetCDF-like datasets (e.g., `xr.Dataset` for intuitive data manipulation).  \n",
    "- numpy: Numerical Python library for high-performance array computations and numerical data processing (e.g., `np.array` for array operations).  \n",
    "- matplotlib: Plotting library for creating static, interactive, or animated visualizations (e.g., `plt` for figure and axis management).  \n",
    "- cartopy: Cartographic library for geospatial data visualization, providing map projections and geographic features (e.g., `ccrs` for coordinate systems, `cfeature` for map elements like coastlines)."
   ]
  },
  {
   "cell_type": "code",
   "execution_count": null,
   "id": "0f71595c-27e6-48c3-bf3d-10970e60d30e",
   "metadata": {},
   "outputs": [],
   "source": [
    "import numpy as np\n",
    "import matplotlib.pyplot as plt\n",
    "import cartopy.crs as ccrs\n",
    "import cartopy.feature as cfeature\n",
    "from netCDF4 import Dataset"
   ]
  },
  {
   "cell_type": "code",
   "execution_count": null,
   "id": "d4f1e556-f01f-4499-bc61-72a5c3eb8324",
   "metadata": {},
   "outputs": [],
   "source": [
    "ncfile = Dataset(file_path)\n",
    "lon = ncfile[\"lon\"][:]\n",
    "lat = ncfile[\"lat\"][:]\n",
    "ano = ncfile[\"anomaly\"][:]\n",
    "mon = ncfile[\"month\"][:]"
   ]
  },
  {
   "cell_type": "code",
   "execution_count": null,
   "id": "0c72c728-dead-459f-b2e7-fc8e5dd4f0e1",
   "metadata": {},
   "outputs": [],
   "source": [
    "# Extract month value (directly use .data attribute to get scalar value)\n",
    "month_value = mon.data if hasattr(mon, \"data\") else mon\n",
    "\n",
    "# Check latitude direction (reverse if data is South->North)\n",
    "if lat[0] > lat[-1]:\n",
    "    lat = lat[::-1]\n",
    "    ano = ano[::-1, :]  # Adjust data dimensions accordingly\n",
    "\n",
    "# Create grid (if lat/lon are 1D, need meshgrid)\n",
    "lon_grid, lat_grid = np.meshgrid(lon, lat)\n",
    "\n",
    "# Create figure and map projection\n",
    "fig = plt.figure(figsize=(12, 6))\n",
    "ax = plt.axes(projection=ccrs.PlateCarree())\n",
    "\n",
    "# Add map features\n",
    "ax.add_feature(cfeature.LAND, edgecolor='black')\n",
    "ax.add_feature(cfeature.COASTLINE)\n",
    "ax.add_feature(cfeature.BORDERS, linestyle=':')\n",
    "ax.add_feature(cfeature.LAKES, alpha=0.5)\n",
    "ax.add_feature(cfeature.RIVERS)\n",
    "\n",
    "# Plot data (transpose ano to match lat/lon grid if needed)\n",
    "contour = ax.contourf(lon_grid, lat_grid, ano,  # No transpose needed\n",
    "                      60, transform=ccrs.PlateCarree(), cmap='coolwarm', extend='both')\n",
    "\n",
    "# Add colorbar\n",
    "cbar = plt.colorbar(\n",
    "    contour, ax=ax, orientation='horizontal', label='Anomaly Value',\n",
    "    shrink=0.6, aspect=20\n",
    ")\n",
    "cbar.ax.set_xlabel(\n",
    "    f'Min: {ano.min():.2f} | Max: {ano.max():.2f}',\n",
    "    fontsize=10, ha='center'\n",
    ")\n",
    "\n",
    "# Add title and grid lines\n",
    "plt.title(f'Global Temperature Anomaly Map for Month {int(month_value)}')\n",
    "ax.gridlines(draw_labels=True, linestyle='--', alpha=0.5)\n",
    "\n",
    "plt.tight_layout()\n",
    "plt.show()"
   ]
  },
  {
   "cell_type": "code",
   "execution_count": null,
   "id": "a4a7578d-b145-40db-b6f5-8f2b70129ce2",
   "metadata": {},
   "outputs": [],
   "source": []
  }
 ],
 "metadata": {
  "kernelspec": {
   "display_name": "Python 3 (ipykernel)",
   "language": "python",
   "name": "python3"
  },
  "language_info": {
   "codemirror_mode": {
    "name": "ipython",
    "version": 3
   },
   "file_extension": ".py",
   "mimetype": "text/x-python",
   "name": "python",
   "nbconvert_exporter": "python",
   "pygments_lexer": "ipython3",
   "version": "3.13.2"
  }
 },
 "nbformat": 4,
 "nbformat_minor": 5
}
